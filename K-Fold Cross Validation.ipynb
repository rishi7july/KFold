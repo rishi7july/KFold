{
 "cells": [
  {
   "cell_type": "code",
   "execution_count": 10,
   "id": "a3435279",
   "metadata": {},
   "outputs": [],
   "source": [
    "from sklearn.model_selection import cross_val_predict, cross_val_score, KFold\n",
    "from sklearn.linear_model import LogisticRegression\n",
    "from sklearn.metrics import precision_score, recall_score, accuracy_score\n",
    "from sklearn.datasets import load_breast_cancer\n",
    "\n",
    "import warnings\n",
    "warnings.filterwarnings('ignore')"
   ]
  },
  {
   "cell_type": "code",
   "execution_count": 11,
   "id": "6f32cd9d",
   "metadata": {},
   "outputs": [],
   "source": [
    "# Load the breast cancer dataset\n",
    "cancer = load_breast_cancer()\n",
    "X, y = cancer.data, cancer.target\n",
    "\n"
   ]
  },
  {
   "cell_type": "code",
   "execution_count": 12,
   "id": "17e37a14",
   "metadata": {},
   "outputs": [],
   "source": [
    "# Initialize logistic regression model\n",
    "log_reg = LogisticRegression()\n",
    "\n"
   ]
  },
  {
   "cell_type": "code",
   "execution_count": 13,
   "id": "fcdd101c",
   "metadata": {},
   "outputs": [],
   "source": [
    "# Define the number of folds for cross-validation\n",
    "k_folds = 5\n",
    "\n"
   ]
  },
  {
   "cell_type": "code",
   "execution_count": 14,
   "id": "7b61deaf",
   "metadata": {},
   "outputs": [],
   "source": [
    "# Initialize k-fold cross-validation\n",
    "kf = KFold(n_splits=k_folds, shuffle=True, random_state=42)\n",
    "\n"
   ]
  },
  {
   "cell_type": "code",
   "execution_count": 15,
   "id": "5f322a77",
   "metadata": {},
   "outputs": [],
   "source": [
    "# Perform k-fold cross-validation for accuracy\n",
    "cv_accuracy = cross_val_score(log_reg, X, y, cv=kf, scoring='accuracy')\n",
    "\n"
   ]
  },
  {
   "cell_type": "code",
   "execution_count": 16,
   "id": "5a2d839f",
   "metadata": {},
   "outputs": [],
   "source": [
    "# Perform k-fold cross-validation for precision\n",
    "predicted = cross_val_predict(log_reg, X, y, cv=kf)\n",
    "precision = precision_score(y, predicted)\n",
    "\n"
   ]
  },
  {
   "cell_type": "code",
   "execution_count": 17,
   "id": "f90f321c",
   "metadata": {},
   "outputs": [],
   "source": [
    "# Perform k-fold cross-validation for recall\n",
    "recall = recall_score(y, predicted)\n",
    "\n"
   ]
  },
  {
   "cell_type": "code",
   "execution_count": 18,
   "id": "bdc0296d",
   "metadata": {},
   "outputs": [
    {
     "name": "stdout",
     "output_type": "stream",
     "text": [
      "Cross-Validation Accuracy: [0.95614035 0.96491228 0.89473684 0.97368421 0.91150442]\n",
      "Mean Accuracy: 0.9401956217978575\n",
      "Standard Deviation of Accuracy: 0.031229212687281294\n",
      "Precision: 0.9473684210526315\n",
      "Recall: 0.957983193277311\n"
     ]
    }
   ],
   "source": [
    "# Print the results\n",
    "print(\"Cross-Validation Accuracy:\", cv_accuracy)\n",
    "print(\"Mean Accuracy:\", cv_accuracy.mean())\n",
    "print(\"Standard Deviation of Accuracy:\", cv_accuracy.std())\n",
    "\n",
    "print(\"Precision:\", precision)\n",
    "print(\"Recall:\", recall)\n"
   ]
  },
  {
   "cell_type": "code",
   "execution_count": null,
   "id": "d318d04f",
   "metadata": {},
   "outputs": [],
   "source": []
  }
 ],
 "metadata": {
  "kernelspec": {
   "display_name": "Python 3 (ipykernel)",
   "language": "python",
   "name": "python3"
  },
  "language_info": {
   "codemirror_mode": {
    "name": "ipython",
    "version": 3
   },
   "file_extension": ".py",
   "mimetype": "text/x-python",
   "name": "python",
   "nbconvert_exporter": "python",
   "pygments_lexer": "ipython3",
   "version": "3.9.12"
  }
 },
 "nbformat": 4,
 "nbformat_minor": 5
}
